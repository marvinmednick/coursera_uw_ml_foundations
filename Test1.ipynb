{
 "cells": [
  {
   "cell_type": "code",
   "execution_count": 1,
   "id": "a8412c74-5fb4-433b-9ae1-00754462e883",
   "metadata": {},
   "outputs": [
    {
     "data": {
      "text/plain": [
       "'3.7.17 (default, Jul  7 2024, 18:42:58) \\n[GCC 10.2.1 20210110]'"
      ]
     },
     "execution_count": 1,
     "metadata": {},
     "output_type": "execute_result"
    }
   ],
   "source": [
    "import sys\n",
    "sys.version"
   ]
  },
  {
   "cell_type": "code",
   "execution_count": 1,
   "id": "78c72b29-9a9c-4148-a45e-fccb6301ac2d",
   "metadata": {},
   "outputs": [
    {
     "name": "stdout",
     "output_type": "stream",
     "text": [
      "Requirement already satisfied: turicreate in ./ml_venv/lib/python3.7/site-packages (6.4.1)\n",
      "Requirement already satisfied: decorator>=4.0.9 in ./ml_venv/lib/python3.7/site-packages (from turicreate) (5.1.1)\n",
      "Requirement already satisfied: numpy in ./ml_venv/lib/python3.7/site-packages (from turicreate) (1.18.5)\n",
      "Requirement already satisfied: pandas>=0.23.2 in ./ml_venv/lib/python3.7/site-packages (from turicreate) (1.3.5)\n",
      "Requirement already satisfied: pillow>=5.2.0 in ./ml_venv/lib/python3.7/site-packages (from turicreate) (9.5.0)\n",
      "Requirement already satisfied: prettytable==0.7.2 in ./ml_venv/lib/python3.7/site-packages (from turicreate) (0.7.2)\n",
      "Requirement already satisfied: resampy==0.2.1 in ./ml_venv/lib/python3.7/site-packages (from turicreate) (0.2.1)\n",
      "Requirement already satisfied: requests>=2.9.1 in ./ml_venv/lib/python3.7/site-packages (from turicreate) (2.31.0)\n",
      "Requirement already satisfied: scipy>=1.1.0 in ./ml_venv/lib/python3.7/site-packages (from turicreate) (1.7.3)\n",
      "Requirement already satisfied: six>=1.10.0 in ./ml_venv/lib/python3.7/site-packages (from turicreate) (1.16.0)\n",
      "Requirement already satisfied: coremltools==3.3 in ./ml_venv/lib/python3.7/site-packages (from turicreate) (3.3)\n",
      "Requirement already satisfied: tensorflow<2.1.0,>=2.0.0 in ./ml_venv/lib/python3.7/site-packages (from turicreate) (2.0.4)\n",
      "Requirement already satisfied: numba<0.51.0 in ./ml_venv/lib/python3.7/site-packages (from turicreate) (0.50.1)\n",
      "Requirement already satisfied: protobuf>=3.1.0 in ./ml_venv/lib/python3.7/site-packages (from coremltools==3.3->turicreate) (4.24.4)\n",
      "Requirement already satisfied: llvmlite<0.34,>=0.33.0.dev0 in ./ml_venv/lib/python3.7/site-packages (from numba<0.51.0->turicreate) (0.33.0)\n",
      "Requirement already satisfied: setuptools in ./ml_venv/lib/python3.7/site-packages (from numba<0.51.0->turicreate) (47.1.0)\n",
      "Requirement already satisfied: python-dateutil>=2.7.3 in ./ml_venv/lib/python3.7/site-packages (from pandas>=0.23.2->turicreate) (2.9.0.post0)\n",
      "Requirement already satisfied: pytz>=2017.3 in ./ml_venv/lib/python3.7/site-packages (from pandas>=0.23.2->turicreate) (2024.1)\n",
      "Requirement already satisfied: charset-normalizer<4,>=2 in ./ml_venv/lib/python3.7/site-packages (from requests>=2.9.1->turicreate) (3.3.2)\n",
      "Requirement already satisfied: idna<4,>=2.5 in ./ml_venv/lib/python3.7/site-packages (from requests>=2.9.1->turicreate) (3.7)\n",
      "Requirement already satisfied: urllib3<3,>=1.21.1 in ./ml_venv/lib/python3.7/site-packages (from requests>=2.9.1->turicreate) (2.0.7)\n",
      "Requirement already satisfied: certifi>=2017.4.17 in ./ml_venv/lib/python3.7/site-packages (from requests>=2.9.1->turicreate) (2024.7.4)\n",
      "Requirement already satisfied: absl-py>=0.7.0 in ./ml_venv/lib/python3.7/site-packages (from tensorflow<2.1.0,>=2.0.0->turicreate) (2.1.0)\n",
      "Requirement already satisfied: astor>=0.6.0 in ./ml_venv/lib/python3.7/site-packages (from tensorflow<2.1.0,>=2.0.0->turicreate) (0.8.1)\n",
      "Requirement already satisfied: gast==0.2.2 in ./ml_venv/lib/python3.7/site-packages (from tensorflow<2.1.0,>=2.0.0->turicreate) (0.2.2)\n",
      "Requirement already satisfied: google-pasta>=0.1.6 in ./ml_venv/lib/python3.7/site-packages (from tensorflow<2.1.0,>=2.0.0->turicreate) (0.2.0)\n",
      "Requirement already satisfied: keras-applications>=1.0.8 in ./ml_venv/lib/python3.7/site-packages (from tensorflow<2.1.0,>=2.0.0->turicreate) (1.0.8)\n",
      "Requirement already satisfied: keras-preprocessing>=1.0.5 in ./ml_venv/lib/python3.7/site-packages (from tensorflow<2.1.0,>=2.0.0->turicreate) (1.1.2)\n",
      "Requirement already satisfied: opt-einsum>=2.3.2 in ./ml_venv/lib/python3.7/site-packages (from tensorflow<2.1.0,>=2.0.0->turicreate) (3.3.0)\n",
      "Requirement already satisfied: tensorboard<2.1.0,>=2.0.0 in ./ml_venv/lib/python3.7/site-packages (from tensorflow<2.1.0,>=2.0.0->turicreate) (2.0.2)\n",
      "Requirement already satisfied: tensorflow-estimator<2.1.0,>=2.0.0 in ./ml_venv/lib/python3.7/site-packages (from tensorflow<2.1.0,>=2.0.0->turicreate) (2.0.1)\n",
      "Requirement already satisfied: termcolor>=1.1.0 in ./ml_venv/lib/python3.7/site-packages (from tensorflow<2.1.0,>=2.0.0->turicreate) (2.3.0)\n",
      "Requirement already satisfied: wrapt>=1.11.1 in ./ml_venv/lib/python3.7/site-packages (from tensorflow<2.1.0,>=2.0.0->turicreate) (1.16.0)\n",
      "Requirement already satisfied: h5py<=2.10.0 in ./ml_venv/lib/python3.7/site-packages (from tensorflow<2.1.0,>=2.0.0->turicreate) (2.10.0)\n",
      "Requirement already satisfied: grpcio>=1.8.6 in ./ml_venv/lib/python3.7/site-packages (from tensorflow<2.1.0,>=2.0.0->turicreate) (1.62.2)\n",
      "Requirement already satisfied: wheel>=0.26 in ./ml_venv/lib/python3.7/site-packages (from tensorflow<2.1.0,>=2.0.0->turicreate) (0.42.0)\n",
      "Requirement already satisfied: google-auth<2,>=1.6.3 in ./ml_venv/lib/python3.7/site-packages (from tensorboard<2.1.0,>=2.0.0->tensorflow<2.1.0,>=2.0.0->turicreate) (1.35.0)\n",
      "Requirement already satisfied: google-auth-oauthlib<0.5,>=0.4.1 in ./ml_venv/lib/python3.7/site-packages (from tensorboard<2.1.0,>=2.0.0->tensorflow<2.1.0,>=2.0.0->turicreate) (0.4.6)\n",
      "Requirement already satisfied: markdown>=2.6.8 in ./ml_venv/lib/python3.7/site-packages (from tensorboard<2.1.0,>=2.0.0->tensorflow<2.1.0,>=2.0.0->turicreate) (3.4.4)\n",
      "Requirement already satisfied: werkzeug>=0.11.15 in ./ml_venv/lib/python3.7/site-packages (from tensorboard<2.1.0,>=2.0.0->tensorflow<2.1.0,>=2.0.0->turicreate) (2.2.3)\n",
      "Requirement already satisfied: cachetools<5.0,>=2.0.0 in ./ml_venv/lib/python3.7/site-packages (from google-auth<2,>=1.6.3->tensorboard<2.1.0,>=2.0.0->tensorflow<2.1.0,>=2.0.0->turicreate) (4.2.4)\n",
      "Requirement already satisfied: pyasn1-modules>=0.2.1 in ./ml_venv/lib/python3.7/site-packages (from google-auth<2,>=1.6.3->tensorboard<2.1.0,>=2.0.0->tensorflow<2.1.0,>=2.0.0->turicreate) (0.3.0)\n",
      "Requirement already satisfied: rsa<5,>=3.1.4 in ./ml_venv/lib/python3.7/site-packages (from google-auth<2,>=1.6.3->tensorboard<2.1.0,>=2.0.0->tensorflow<2.1.0,>=2.0.0->turicreate) (4.9)\n",
      "Requirement already satisfied: requests-oauthlib>=0.7.0 in ./ml_venv/lib/python3.7/site-packages (from google-auth-oauthlib<0.5,>=0.4.1->tensorboard<2.1.0,>=2.0.0->tensorflow<2.1.0,>=2.0.0->turicreate) (2.0.0)\n",
      "Requirement already satisfied: importlib-metadata>=4.4 in ./ml_venv/lib/python3.7/site-packages (from markdown>=2.6.8->tensorboard<2.1.0,>=2.0.0->tensorflow<2.1.0,>=2.0.0->turicreate) (6.7.0)\n",
      "Requirement already satisfied: MarkupSafe>=2.1.1 in ./ml_venv/lib/python3.7/site-packages (from werkzeug>=0.11.15->tensorboard<2.1.0,>=2.0.0->tensorflow<2.1.0,>=2.0.0->turicreate) (2.1.5)\n",
      "Requirement already satisfied: zipp>=0.5 in ./ml_venv/lib/python3.7/site-packages (from importlib-metadata>=4.4->markdown>=2.6.8->tensorboard<2.1.0,>=2.0.0->tensorflow<2.1.0,>=2.0.0->turicreate) (3.15.0)\n",
      "Requirement already satisfied: typing-extensions>=3.6.4 in ./ml_venv/lib/python3.7/site-packages (from importlib-metadata>=4.4->markdown>=2.6.8->tensorboard<2.1.0,>=2.0.0->tensorflow<2.1.0,>=2.0.0->turicreate) (4.7.1)\n",
      "Requirement already satisfied: pyasn1<0.6.0,>=0.4.6 in ./ml_venv/lib/python3.7/site-packages (from pyasn1-modules>=0.2.1->google-auth<2,>=1.6.3->tensorboard<2.1.0,>=2.0.0->tensorflow<2.1.0,>=2.0.0->turicreate) (0.5.1)\n",
      "Requirement already satisfied: oauthlib>=3.0.0 in ./ml_venv/lib/python3.7/site-packages (from requests-oauthlib>=0.7.0->google-auth-oauthlib<0.5,>=0.4.1->tensorboard<2.1.0,>=2.0.0->tensorflow<2.1.0,>=2.0.0->turicreate) (3.2.2)\n"
     ]
    }
   ],
   "source": [
    "!pip install turicreate"
   ]
  },
  {
   "cell_type": "code",
   "execution_count": null,
   "id": "7bae31e2-f265-43a0-82df-92ce745e1d83",
   "metadata": {},
   "outputs": [],
   "source": []
  }
 ],
 "metadata": {
  "kernelspec": {
   "display_name": "Python 3.7",
   "language": "python",
   "name": "python3.7"
  },
  "language_info": {
   "codemirror_mode": {
    "name": "ipython",
    "version": 3
   },
   "file_extension": ".py",
   "mimetype": "text/x-python",
   "name": "python",
   "nbconvert_exporter": "python",
   "pygments_lexer": "ipython3",
   "version": "3.7.17"
  }
 },
 "nbformat": 4,
 "nbformat_minor": 5
}
